{
 "cells": [
  {
   "cell_type": "markdown",
   "id": "bf970789",
   "metadata": {},
   "source": [
    "Image is just a big grid of numbers between [0,255]:\n",
    "\n",
    "eg. 800x600x3 (3 channels RGB)\n"
   ]
  },
  {
   "cell_type": "markdown",
   "id": "b45a4d98",
   "metadata": {},
   "source": [
    "### Challenges\n",
    "\n",
    "Viewpoint variation - all pixels change when the camera moves,\n",
    "\n",
    "Deformation\n",
    "\n",
    "Occlusion - blocked a portion of an object with something else\n",
    "\n",
    "Background clutter - when forground object looks quite similar to the background\n",
    "\n",
    "Interclass variation - objects for eg can have many different sizes, colors"
   ]
  },
  {
   "cell_type": "markdown",
   "id": "9459f2ca",
   "metadata": {},
   "source": [
    "### Data-driven Approach\n",
    "\n",
    "1. Collect a dataset of images and labels\n",
    "\n",
    "2. Use Machine Learning to train a classifier\n",
    "\n",
    "3. Evaluate the clasifier on new images"
   ]
  },
  {
   "cell_type": "markdown",
   "id": "86da83c8",
   "metadata": {},
   "source": [
    "### Classifier\n",
    "\n",
    "1. Nearest Neighbour - memorizes all data and labels, and predicts the label of the most similar training image\n",
    "\n"
   ]
  }
 ],
 "metadata": {
  "kernelspec": {
   "display_name": "Python 3 (ipykernel)",
   "language": "python",
   "name": "python3"
  },
  "language_info": {
   "codemirror_mode": {
    "name": "ipython",
    "version": 3
   },
   "file_extension": ".py",
   "mimetype": "text/x-python",
   "name": "python",
   "nbconvert_exporter": "python",
   "pygments_lexer": "ipython3",
   "version": "3.8.12"
  }
 },
 "nbformat": 4,
 "nbformat_minor": 5
}
